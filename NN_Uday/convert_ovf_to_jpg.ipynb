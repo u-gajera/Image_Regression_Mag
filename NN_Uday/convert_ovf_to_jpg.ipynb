{
 "cells": [
  {
   "cell_type": "code",
   "execution_count": 4,
   "id": "77d2ad63",
   "metadata": {},
   "outputs": [],
   "source": [
    "import numpy as np\n",
    "import os"
   ]
  },
  {
   "cell_type": "code",
   "execution_count": 5,
   "id": "f9c91df6",
   "metadata": {},
   "outputs": [],
   "source": [
    "file_list = os.listdir('.')"
   ]
  },
  {
   "cell_type": "code",
   "execution_count": 6,
   "id": "9d5ac55f",
   "metadata": {},
   "outputs": [
    {
     "data": {
      "text/plain": [
       "['.ipynb_checkpoints',\n",
       " '5000_0.825_1.03e-10_263.jpg',\n",
       " '5000_0.825_1.03e-10_263.out',\n",
       " '5000_0.825_1.03e-10_287.jpg',\n",
       " '5000_0.825_1.03e-10_287.out',\n",
       " '5000_0.825_1.03e-10_313.jpg',\n",
       " '5000_0.825_1.03e-10_313.out',\n",
       " '5000_0.825_1.03e-10_338.jpg',\n",
       " '5000_0.825_1.03e-10_338.out',\n",
       " '5000_0.825_1.03e-11_263.jpg',\n",
       " '5000_0.825_1.03e-11_263.out',\n",
       " 'Creating_images.ipynb']"
      ]
     },
     "execution_count": 6,
     "metadata": {},
     "output_type": "execute_result"
    }
   ],
   "source": []
  },
  {
   "cell_type": "code",
   "execution_count": null,
   "id": "84c61b1b",
   "metadata": {},
   "outputs": [],
   "source": [
    "for fileName in file_list:\n",
    "    if fileName.find(\".out\") != -1:\n",
    "        print(fileName.split('_'))\n",
    "        os.chdir('./{}'.format(fileName))\n",
    "        os.system('mumax3-convert -png *.ovf')\n",
    "        #inside directories\n",
    "        print(os.listdir())\n",
    "        os.rename('Domain_CoPd_K_1E6_Ms_1p2.png','../{}.jpg'.format(fileName.split('.out')[0]))\n",
    "        \n",
    "        os.chdir('../')\n",
    "        #back to main directory"
   ]
  }
 ],
 "metadata": {
  "kernelspec": {
   "display_name": "Python 3 (ipykernel)",
   "language": "python",
   "name": "python3"
  },
  "language_info": {
   "codemirror_mode": {
    "name": "ipython",
    "version": 3
   },
   "file_extension": ".py",
   "mimetype": "text/x-python",
   "name": "python",
   "nbconvert_exporter": "python",
   "pygments_lexer": "ipython3",
   "version": "3.9.7"
  }
 },
 "nbformat": 4,
 "nbformat_minor": 5
}
